{
 "cells": [
  {
   "cell_type": "code",
   "execution_count": 35,
   "metadata": {},
   "outputs": [],
   "source": [
    "import pandas as pd\n",
    "import numpy as np\n",
    "from sklearn.model_selection import train_test_split\n",
    "from sklearn.preprocessing import StandardScaler\n",
    "from sklearn.model_selection import GridSearchCV\n",
    "from sklearn.linear_model import LinearRegression\n",
    "from sklearn.ensemble import RandomForestRegressor\n",
    "import matplotlib.pyplot as plt\n",
    "%matplotlib inline\n",
    "import warnings\n",
    "warnings.simplefilter(action='ignore', category=FutureWarning)"
   ]
  },
  {
   "cell_type": "code",
   "execution_count": 6,
   "metadata": {},
   "outputs": [],
   "source": [
    "data=pd.read_csv('housing_final_data.csv')"
   ]
  },
  {
   "cell_type": "code",
   "execution_count": 7,
   "metadata": {},
   "outputs": [
    {
     "data": {
      "text/html": [
       "<div>\n",
       "<style scoped>\n",
       "    .dataframe tbody tr th:only-of-type {\n",
       "        vertical-align: middle;\n",
       "    }\n",
       "\n",
       "    .dataframe tbody tr th {\n",
       "        vertical-align: top;\n",
       "    }\n",
       "\n",
       "    .dataframe thead th {\n",
       "        text-align: right;\n",
       "    }\n",
       "</style>\n",
       "<table border=\"1\" class=\"dataframe\">\n",
       "  <thead>\n",
       "    <tr style=\"text-align: right;\">\n",
       "      <th></th>\n",
       "      <th>price</th>\n",
       "      <th>sqfeet</th>\n",
       "      <th>beds</th>\n",
       "      <th>baths</th>\n",
       "      <th>cats_allowed</th>\n",
       "      <th>dogs_allowed</th>\n",
       "      <th>smoking_allowed</th>\n",
       "      <th>wheelchair_access</th>\n",
       "      <th>electric_vehicle_charge</th>\n",
       "      <th>SF bay area</th>\n",
       "      <th>...</th>\n",
       "      <th>mi</th>\n",
       "      <th>mn</th>\n",
       "      <th>ms</th>\n",
       "      <th>nc</th>\n",
       "      <th>nd</th>\n",
       "      <th>nj</th>\n",
       "      <th>nm</th>\n",
       "      <th>nv</th>\n",
       "      <th>ny</th>\n",
       "      <th>oh</th>\n",
       "    </tr>\n",
       "  </thead>\n",
       "  <tbody>\n",
       "    <tr>\n",
       "      <th>count</th>\n",
       "      <td>214381.000000</td>\n",
       "      <td>214381.000000</td>\n",
       "      <td>214381.000000</td>\n",
       "      <td>214381.000000</td>\n",
       "      <td>214381.000000</td>\n",
       "      <td>214381.000000</td>\n",
       "      <td>214381.000000</td>\n",
       "      <td>214381.000000</td>\n",
       "      <td>214381.000000</td>\n",
       "      <td>214381.000000</td>\n",
       "      <td>...</td>\n",
       "      <td>214381.000000</td>\n",
       "      <td>214381.000000</td>\n",
       "      <td>214381.000000</td>\n",
       "      <td>214381.000000</td>\n",
       "      <td>214381.000000</td>\n",
       "      <td>214381.000000</td>\n",
       "      <td>214381.000000</td>\n",
       "      <td>214381.000000</td>\n",
       "      <td>214381.000000</td>\n",
       "      <td>214381.000000</td>\n",
       "    </tr>\n",
       "    <tr>\n",
       "      <th>mean</th>\n",
       "      <td>1072.366413</td>\n",
       "      <td>934.502684</td>\n",
       "      <td>1.817307</td>\n",
       "      <td>1.469529</td>\n",
       "      <td>0.734753</td>\n",
       "      <td>0.711397</td>\n",
       "      <td>0.760739</td>\n",
       "      <td>0.069167</td>\n",
       "      <td>0.008970</td>\n",
       "      <td>0.001054</td>\n",
       "      <td>...</td>\n",
       "      <td>0.059744</td>\n",
       "      <td>0.029233</td>\n",
       "      <td>0.020818</td>\n",
       "      <td>0.079737</td>\n",
       "      <td>0.014749</td>\n",
       "      <td>0.016895</td>\n",
       "      <td>0.010271</td>\n",
       "      <td>0.011195</td>\n",
       "      <td>0.033492</td>\n",
       "      <td>0.027139</td>\n",
       "    </tr>\n",
       "    <tr>\n",
       "      <th>std</th>\n",
       "      <td>347.732507</td>\n",
       "      <td>238.719648</td>\n",
       "      <td>0.687699</td>\n",
       "      <td>0.543732</td>\n",
       "      <td>0.441466</td>\n",
       "      <td>0.453114</td>\n",
       "      <td>0.426633</td>\n",
       "      <td>0.253738</td>\n",
       "      <td>0.094285</td>\n",
       "      <td>0.032451</td>\n",
       "      <td>...</td>\n",
       "      <td>0.237013</td>\n",
       "      <td>0.168459</td>\n",
       "      <td>0.142775</td>\n",
       "      <td>0.270886</td>\n",
       "      <td>0.120549</td>\n",
       "      <td>0.128879</td>\n",
       "      <td>0.100826</td>\n",
       "      <td>0.105213</td>\n",
       "      <td>0.179917</td>\n",
       "      <td>0.162488</td>\n",
       "    </tr>\n",
       "    <tr>\n",
       "      <th>min</th>\n",
       "      <td>265.000000</td>\n",
       "      <td>275.000000</td>\n",
       "      <td>1.000000</td>\n",
       "      <td>1.000000</td>\n",
       "      <td>0.000000</td>\n",
       "      <td>0.000000</td>\n",
       "      <td>0.000000</td>\n",
       "      <td>0.000000</td>\n",
       "      <td>0.000000</td>\n",
       "      <td>0.000000</td>\n",
       "      <td>...</td>\n",
       "      <td>0.000000</td>\n",
       "      <td>0.000000</td>\n",
       "      <td>0.000000</td>\n",
       "      <td>0.000000</td>\n",
       "      <td>0.000000</td>\n",
       "      <td>0.000000</td>\n",
       "      <td>0.000000</td>\n",
       "      <td>0.000000</td>\n",
       "      <td>0.000000</td>\n",
       "      <td>0.000000</td>\n",
       "    </tr>\n",
       "    <tr>\n",
       "      <th>25%</th>\n",
       "      <td>800.000000</td>\n",
       "      <td>750.000000</td>\n",
       "      <td>1.000000</td>\n",
       "      <td>1.000000</td>\n",
       "      <td>0.000000</td>\n",
       "      <td>0.000000</td>\n",
       "      <td>1.000000</td>\n",
       "      <td>0.000000</td>\n",
       "      <td>0.000000</td>\n",
       "      <td>0.000000</td>\n",
       "      <td>...</td>\n",
       "      <td>0.000000</td>\n",
       "      <td>0.000000</td>\n",
       "      <td>0.000000</td>\n",
       "      <td>0.000000</td>\n",
       "      <td>0.000000</td>\n",
       "      <td>0.000000</td>\n",
       "      <td>0.000000</td>\n",
       "      <td>0.000000</td>\n",
       "      <td>0.000000</td>\n",
       "      <td>0.000000</td>\n",
       "    </tr>\n",
       "    <tr>\n",
       "      <th>50%</th>\n",
       "      <td>1000.000000</td>\n",
       "      <td>924.000000</td>\n",
       "      <td>2.000000</td>\n",
       "      <td>1.000000</td>\n",
       "      <td>1.000000</td>\n",
       "      <td>1.000000</td>\n",
       "      <td>1.000000</td>\n",
       "      <td>0.000000</td>\n",
       "      <td>0.000000</td>\n",
       "      <td>0.000000</td>\n",
       "      <td>...</td>\n",
       "      <td>0.000000</td>\n",
       "      <td>0.000000</td>\n",
       "      <td>0.000000</td>\n",
       "      <td>0.000000</td>\n",
       "      <td>0.000000</td>\n",
       "      <td>0.000000</td>\n",
       "      <td>0.000000</td>\n",
       "      <td>0.000000</td>\n",
       "      <td>0.000000</td>\n",
       "      <td>0.000000</td>\n",
       "    </tr>\n",
       "    <tr>\n",
       "      <th>75%</th>\n",
       "      <td>1310.000000</td>\n",
       "      <td>1100.000000</td>\n",
       "      <td>2.000000</td>\n",
       "      <td>2.000000</td>\n",
       "      <td>1.000000</td>\n",
       "      <td>1.000000</td>\n",
       "      <td>1.000000</td>\n",
       "      <td>0.000000</td>\n",
       "      <td>0.000000</td>\n",
       "      <td>0.000000</td>\n",
       "      <td>...</td>\n",
       "      <td>0.000000</td>\n",
       "      <td>0.000000</td>\n",
       "      <td>0.000000</td>\n",
       "      <td>0.000000</td>\n",
       "      <td>0.000000</td>\n",
       "      <td>0.000000</td>\n",
       "      <td>0.000000</td>\n",
       "      <td>0.000000</td>\n",
       "      <td>0.000000</td>\n",
       "      <td>0.000000</td>\n",
       "    </tr>\n",
       "    <tr>\n",
       "      <th>max</th>\n",
       "      <td>1974.000000</td>\n",
       "      <td>1593.000000</td>\n",
       "      <td>3.000000</td>\n",
       "      <td>3.000000</td>\n",
       "      <td>1.000000</td>\n",
       "      <td>1.000000</td>\n",
       "      <td>1.000000</td>\n",
       "      <td>1.000000</td>\n",
       "      <td>1.000000</td>\n",
       "      <td>1.000000</td>\n",
       "      <td>...</td>\n",
       "      <td>1.000000</td>\n",
       "      <td>1.000000</td>\n",
       "      <td>1.000000</td>\n",
       "      <td>1.000000</td>\n",
       "      <td>1.000000</td>\n",
       "      <td>1.000000</td>\n",
       "      <td>1.000000</td>\n",
       "      <td>1.000000</td>\n",
       "      <td>1.000000</td>\n",
       "      <td>1.000000</td>\n",
       "    </tr>\n",
       "  </tbody>\n",
       "</table>\n",
       "<p>8 rows × 193 columns</p>\n",
       "</div>"
      ],
      "text/plain": [
       "               price         sqfeet           beds          baths  \\\n",
       "count  214381.000000  214381.000000  214381.000000  214381.000000   \n",
       "mean     1072.366413     934.502684       1.817307       1.469529   \n",
       "std       347.732507     238.719648       0.687699       0.543732   \n",
       "min       265.000000     275.000000       1.000000       1.000000   \n",
       "25%       800.000000     750.000000       1.000000       1.000000   \n",
       "50%      1000.000000     924.000000       2.000000       1.000000   \n",
       "75%      1310.000000    1100.000000       2.000000       2.000000   \n",
       "max      1974.000000    1593.000000       3.000000       3.000000   \n",
       "\n",
       "        cats_allowed   dogs_allowed  smoking_allowed  wheelchair_access  \\\n",
       "count  214381.000000  214381.000000    214381.000000      214381.000000   \n",
       "mean        0.734753       0.711397         0.760739           0.069167   \n",
       "std         0.441466       0.453114         0.426633           0.253738   \n",
       "min         0.000000       0.000000         0.000000           0.000000   \n",
       "25%         0.000000       0.000000         1.000000           0.000000   \n",
       "50%         1.000000       1.000000         1.000000           0.000000   \n",
       "75%         1.000000       1.000000         1.000000           0.000000   \n",
       "max         1.000000       1.000000         1.000000           1.000000   \n",
       "\n",
       "       electric_vehicle_charge    SF bay area  ...             mi  \\\n",
       "count            214381.000000  214381.000000  ...  214381.000000   \n",
       "mean                  0.008970       0.001054  ...       0.059744   \n",
       "std                   0.094285       0.032451  ...       0.237013   \n",
       "min                   0.000000       0.000000  ...       0.000000   \n",
       "25%                   0.000000       0.000000  ...       0.000000   \n",
       "50%                   0.000000       0.000000  ...       0.000000   \n",
       "75%                   0.000000       0.000000  ...       0.000000   \n",
       "max                   1.000000       1.000000  ...       1.000000   \n",
       "\n",
       "                  mn             ms             nc             nd  \\\n",
       "count  214381.000000  214381.000000  214381.000000  214381.000000   \n",
       "mean        0.029233       0.020818       0.079737       0.014749   \n",
       "std         0.168459       0.142775       0.270886       0.120549   \n",
       "min         0.000000       0.000000       0.000000       0.000000   \n",
       "25%         0.000000       0.000000       0.000000       0.000000   \n",
       "50%         0.000000       0.000000       0.000000       0.000000   \n",
       "75%         0.000000       0.000000       0.000000       0.000000   \n",
       "max         1.000000       1.000000       1.000000       1.000000   \n",
       "\n",
       "                  nj             nm             nv             ny  \\\n",
       "count  214381.000000  214381.000000  214381.000000  214381.000000   \n",
       "mean        0.016895       0.010271       0.011195       0.033492   \n",
       "std         0.128879       0.100826       0.105213       0.179917   \n",
       "min         0.000000       0.000000       0.000000       0.000000   \n",
       "25%         0.000000       0.000000       0.000000       0.000000   \n",
       "50%         0.000000       0.000000       0.000000       0.000000   \n",
       "75%         0.000000       0.000000       0.000000       0.000000   \n",
       "max         1.000000       1.000000       1.000000       1.000000   \n",
       "\n",
       "                  oh  \n",
       "count  214381.000000  \n",
       "mean        0.027139  \n",
       "std         0.162488  \n",
       "min         0.000000  \n",
       "25%         0.000000  \n",
       "50%         0.000000  \n",
       "75%         0.000000  \n",
       "max         1.000000  \n",
       "\n",
       "[8 rows x 193 columns]"
      ]
     },
     "execution_count": 7,
     "metadata": {},
     "output_type": "execute_result"
    }
   ],
   "source": [
    "data.describe()"
   ]
  },
  {
   "cell_type": "code",
   "execution_count": 9,
   "metadata": {},
   "outputs": [],
   "source": [
    "X=data.drop(['price'],axis=1)\n",
    "y=data.price"
   ]
  },
  {
   "cell_type": "code",
   "execution_count": 10,
   "metadata": {},
   "outputs": [
    {
     "data": {
      "text/html": [
       "<div>\n",
       "<style scoped>\n",
       "    .dataframe tbody tr th:only-of-type {\n",
       "        vertical-align: middle;\n",
       "    }\n",
       "\n",
       "    .dataframe tbody tr th {\n",
       "        vertical-align: top;\n",
       "    }\n",
       "\n",
       "    .dataframe thead th {\n",
       "        text-align: right;\n",
       "    }\n",
       "</style>\n",
       "<table border=\"1\" class=\"dataframe\">\n",
       "  <thead>\n",
       "    <tr style=\"text-align: right;\">\n",
       "      <th></th>\n",
       "      <th>sqfeet</th>\n",
       "      <th>beds</th>\n",
       "      <th>baths</th>\n",
       "      <th>cats_allowed</th>\n",
       "      <th>dogs_allowed</th>\n",
       "      <th>smoking_allowed</th>\n",
       "      <th>wheelchair_access</th>\n",
       "      <th>electric_vehicle_charge</th>\n",
       "      <th>SF bay area</th>\n",
       "      <th>akron / canton</th>\n",
       "      <th>...</th>\n",
       "      <th>mi</th>\n",
       "      <th>mn</th>\n",
       "      <th>ms</th>\n",
       "      <th>nc</th>\n",
       "      <th>nd</th>\n",
       "      <th>nj</th>\n",
       "      <th>nm</th>\n",
       "      <th>nv</th>\n",
       "      <th>ny</th>\n",
       "      <th>oh</th>\n",
       "    </tr>\n",
       "  </thead>\n",
       "  <tbody>\n",
       "    <tr>\n",
       "      <th>0</th>\n",
       "      <td>1319</td>\n",
       "      <td>3</td>\n",
       "      <td>2</td>\n",
       "      <td>1</td>\n",
       "      <td>1</td>\n",
       "      <td>1</td>\n",
       "      <td>0</td>\n",
       "      <td>0</td>\n",
       "      <td>0</td>\n",
       "      <td>0</td>\n",
       "      <td>...</td>\n",
       "      <td>0</td>\n",
       "      <td>0</td>\n",
       "      <td>0</td>\n",
       "      <td>0</td>\n",
       "      <td>0</td>\n",
       "      <td>0</td>\n",
       "      <td>0</td>\n",
       "      <td>0</td>\n",
       "      <td>0</td>\n",
       "      <td>0</td>\n",
       "    </tr>\n",
       "    <tr>\n",
       "      <th>1</th>\n",
       "      <td>1133</td>\n",
       "      <td>1</td>\n",
       "      <td>2</td>\n",
       "      <td>1</td>\n",
       "      <td>1</td>\n",
       "      <td>1</td>\n",
       "      <td>0</td>\n",
       "      <td>0</td>\n",
       "      <td>0</td>\n",
       "      <td>0</td>\n",
       "      <td>...</td>\n",
       "      <td>0</td>\n",
       "      <td>0</td>\n",
       "      <td>0</td>\n",
       "      <td>0</td>\n",
       "      <td>0</td>\n",
       "      <td>0</td>\n",
       "      <td>0</td>\n",
       "      <td>0</td>\n",
       "      <td>0</td>\n",
       "      <td>0</td>\n",
       "    </tr>\n",
       "  </tbody>\n",
       "</table>\n",
       "<p>2 rows × 192 columns</p>\n",
       "</div>"
      ],
      "text/plain": [
       "   sqfeet  beds  baths  cats_allowed  dogs_allowed  smoking_allowed  \\\n",
       "0    1319     3      2             1             1                1   \n",
       "1    1133     1      2             1             1                1   \n",
       "\n",
       "   wheelchair_access  electric_vehicle_charge  SF bay area  akron / canton  \\\n",
       "0                  0                        0            0               0   \n",
       "1                  0                        0            0               0   \n",
       "\n",
       "   ...  mi  mn  ms  nc  nd  nj  nm  nv  ny  oh  \n",
       "0  ...   0   0   0   0   0   0   0   0   0   0  \n",
       "1  ...   0   0   0   0   0   0   0   0   0   0  \n",
       "\n",
       "[2 rows x 192 columns]"
      ]
     },
     "execution_count": 10,
     "metadata": {},
     "output_type": "execute_result"
    }
   ],
   "source": [
    "X.head(2)"
   ]
  },
  {
   "cell_type": "code",
   "execution_count": 11,
   "metadata": {},
   "outputs": [
    {
     "data": {
      "text/plain": [
       "0    1120\n",
       "1     825\n",
       "2     800\n",
       "3     785\n",
       "4     900\n",
       "Name: price, dtype: int64"
      ]
     },
     "execution_count": 11,
     "metadata": {},
     "output_type": "execute_result"
    }
   ],
   "source": [
    "y.head()"
   ]
  },
  {
   "cell_type": "code",
   "execution_count": 13,
   "metadata": {},
   "outputs": [],
   "source": [
    "X_train,X_test,y_train,y_test=train_test_split(X,y,test_size=0.2,random_state=101)"
   ]
  },
  {
   "cell_type": "code",
   "execution_count": 27,
   "metadata": {},
   "outputs": [],
   "source": [
    "Scr=StandardScaler()\n",
    "X1_train=Scr.fit_transform(X_train)\n",
    "X1_test=Scr.fit_transform(X_test)\n",
    "y1_train=y_train\n",
    "y1_test=y_test"
   ]
  },
  {
   "cell_type": "code",
   "execution_count": 16,
   "metadata": {},
   "outputs": [
    {
     "data": {
      "text/plain": [
       "LinearRegression()"
      ]
     },
     "execution_count": 16,
     "metadata": {},
     "output_type": "execute_result"
    }
   ],
   "source": [
    "lrM=LinearRegression()\n",
    "lrM.fit(X_train,y_train)"
   ]
  },
  {
   "cell_type": "code",
   "execution_count": 17,
   "metadata": {},
   "outputs": [
    {
     "data": {
      "text/plain": [
       "0.6796354840119412"
      ]
     },
     "execution_count": 17,
     "metadata": {},
     "output_type": "execute_result"
    }
   ],
   "source": [
    "lrM.score(X_test,y_test)"
   ]
  },
  {
   "cell_type": "markdown",
   "metadata": {},
   "source": [
    "# Random Forest"
   ]
  },
  {
   "cell_type": "code",
   "execution_count": 31,
   "metadata": {},
   "outputs": [],
   "source": [
    "RfM=RandomForestRegressor()"
   ]
  },
  {
   "cell_type": "code",
   "execution_count": 33,
   "metadata": {},
   "outputs": [
    {
     "data": {
      "text/plain": [
       "RandomForestRegressor()"
      ]
     },
     "execution_count": 33,
     "metadata": {},
     "output_type": "execute_result"
    }
   ],
   "source": [
    "RfM.fit(X_train,y_train)"
   ]
  },
  {
   "cell_type": "code",
   "execution_count": 34,
   "metadata": {},
   "outputs": [
    {
     "data": {
      "text/plain": [
       "0.8726219169273715"
      ]
     },
     "execution_count": 34,
     "metadata": {},
     "output_type": "execute_result"
    }
   ],
   "source": [
    "RfM.score(X_test,y_test)"
   ]
  },
  {
   "cell_type": "markdown",
   "metadata": {},
   "source": [
    "## Conclusion\n",
    "\n",
    "In this project using housing_Train DataSet to build  model which  predict Monthly housing rent given on following features. \n",
    "I used two different regressor(Linear Regression, Random Forest Regressor) to achive best score. \n",
    "The best score was achived using Random Forest Regressor\n",
    "\n",
    "- Score 87%\n"
   ]
  },
  {
   "cell_type": "markdown",
   "metadata": {},
   "source": []
  }
 ],
 "metadata": {
  "kernelspec": {
   "display_name": "Python 3",
   "language": "python",
   "name": "python3"
  },
  "language_info": {
   "codemirror_mode": {
    "name": "ipython",
    "version": 3
   },
   "file_extension": ".py",
   "mimetype": "text/x-python",
   "name": "python",
   "nbconvert_exporter": "python",
   "pygments_lexer": "ipython3",
   "version": "3.8.5"
  }
 },
 "nbformat": 4,
 "nbformat_minor": 4
}
